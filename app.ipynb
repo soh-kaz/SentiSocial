{
 "cells": [
  {
   "cell_type": "code",
   "execution_count": 161,
   "id": "b8e34ed6",
   "metadata": {},
   "outputs": [],
   "source": [
    "from dotenv import load_dotenv\n",
    "from langchain_openai import ChatOpenAI\n",
    "from langchain_google_genai import ChatGoogleGenerativeAI\n",
    "from langchain_core.prompts import BasePromptTemplate\n",
    "from langchain_core.output_parsers import JsonOutputParser\n",
    "\n",
    "from langgraph.graph import StateGraph, START, END\n",
    "from typing import TypedDict, Literal, List, Optional, Union\n",
    "\n",
    "import json"
   ]
  },
  {
   "cell_type": "code",
   "execution_count": 162,
   "id": "43ea1510",
   "metadata": {},
   "outputs": [],
   "source": [
    "load_dotenv()\n",
    "\n",
    "model = ChatGoogleGenerativeAI(model=\"gemini-1.5-flash\")"
   ]
  },
  {
   "cell_type": "code",
   "execution_count": 163,
   "id": "be81e527",
   "metadata": {},
   "outputs": [],
   "source": [
    "class Comment(TypedDict, total=False):\n",
    "    user: Optional[str]\n",
    "    comment: str\n",
    "    text: Optional[str]\n",
    "    sentiment: Optional[str]\n",
    "\n",
    "\n",
    "class PostState(TypedDict, total=False):\n",
    "    \n",
    "    post_id: int\n",
    "    post_description: str\n",
    "    username: str\n",
    "    \n",
    "    comments: List[Union[Optional[Comment], str]]\n",
    "    \n",
    "    summary: str\n",
    "    positive_sentiment: int\n",
    "    negative_sentiment: int\n",
    "    score: int\n",
    "    overall_sentiment: str\n",
    "    \n",
    "    comments_detailed: List[Union[Optional[Comment], str]]\n",
    "    \n",
    "    error: str"
   ]
  },
  {
   "cell_type": "code",
   "execution_count": 164,
   "id": "5fde2f51",
   "metadata": {},
   "outputs": [],
   "source": [
    "graph = StateGraph(PostState)"
   ]
  },
  {
   "cell_type": "code",
   "execution_count": 165,
   "id": "26d6411c",
   "metadata": {},
   "outputs": [],
   "source": [
    "\n",
    "def check_comment_exist(state: PostState) -> PostState:\n",
    "    print(\"Check Comment Exist\")\n",
    "    return state\n",
    "\n",
    "def generate_summary(state: PostState):\n",
    "    \n",
    "    post = state['post_description']\n",
    "    comments = state['comments']\n",
    "    \n",
    "    print(\"Generate Summary\")\n",
    "    \n",
    "    prompt = f\"\"\"You are a Professional People's comments content analyzer, Generate a short descriptive summary about what peoples say about the posts.\n",
    "    \n",
    "    Original Post is: ${post}\n",
    "    Comments are : ${comments}\n",
    "    \n",
    "    \"\"\"\n",
    "    \n",
    "    result = model.invoke(prompt).content\n",
    "    \n",
    "    # print(result)\n",
    "    \n",
    "    return {'summary': result}\n",
    "\n",
    "def check_sentiment(state: PostState):\n",
    "    \n",
    "    print(\"Check Sentiment\")\n",
    "    \n",
    "    \n",
    "    post = state['post_description']\n",
    "    comments = state['comments']\n",
    "    \n",
    "    json_schema = {\n",
    "            \n",
    "    \"positive_sentiment\": 0,\n",
    "    \"negative_sentiment\": 0,\n",
    "    \"score\": 0,\n",
    "    \"overall_sentiment\":[\"positive\", \"negative\", \"neutral\"],\n",
    "    \"comments\":[\n",
    "        {\n",
    "            \"comment\": \"\",\n",
    "            \"sentiment\":[\"positive\", \"negative\", \"neutral\"]\n",
    "        }\n",
    "    ]\n",
    "    }\n",
    "    \n",
    "    prompt = f\"\"\"You are a Professional People's comments content analyzer, Analyze the following comment and return its sentiment (positive, negative, or neutral) and count of positive comments and negative comments\n",
    "    and a score between 0 and 5\n",
    "    \n",
    "    Original Post is: ${post}\n",
    "    Comments are : ${comments}\n",
    "    \n",
    "    Return a JSON object.\n",
    "    \n",
    "    ${json_schema}\n",
    "\n",
    "    \n",
    "    \"\"\"\n",
    "    \n",
    "    \n",
    "    result = model.invoke(prompt)    \n",
    "    content = result.content.strip(\"```json\\n\").strip(\"```\")\n",
    "\n",
    "    # Parse the JSON string into a Python dictionary\n",
    "    data = json.loads(content)\n",
    "      \n",
    "    # print(result)  \n",
    "    # Extracting the overall sentiment counts and score\n",
    "    positive_sentiment = data['positive_sentiment']\n",
    "    negative_sentiment = data['negative_sentiment']\n",
    "    overall_sentiment = data['overall_sentiment']\n",
    "    score = data['score']\n",
    "\n",
    "    # Extracting comments and their sentiment\n",
    "    comments_detailed = data['comments']\n",
    "    \n",
    "    \n",
    "    \n",
    "    \n",
    "    \n",
    "    return { 'positive_sentiment': positive_sentiment, 'negative_sentiment': negative_sentiment, 'score': score, 'comments_detailed':comments_detailed, 'overall_sentiment':overall_sentiment}\n",
    "    # return { 'positive_sentiment': 0, 'negative_sentiment': 0, 'score': 0, 'comments_detailed':\"\"}\n",
    "\n",
    "def store_db(state: PostState):\n",
    "    return state\n",
    "\n",
    "def show_errors_post(state: PostState):\n",
    "    print(f'Post not found')\n",
    "    return {'error': f'Post not found'}\n",
    "\n",
    "def show_error_comments(state: PostState):\n",
    "    comments = state['comments']\n",
    "    print(f'Total Comment(s) Found: ${len(comments)}')\n",
    "    return {'error': f'Total Comment(s) Found: ${len(comments)}'}\n",
    "\n",
    "def data_formatting(state: PostState):\n",
    "    print(\"Data Formatting Node\")\n",
    "    lists = state['comments']\n",
    "    finalList = [data['comment'] for data in lists]\n",
    "        \n",
    "    \n",
    "    return {'comments': finalList}\n",
    "\n",
    "\n",
    "def post_conditional(state: PostState) -> Literal[\"check_comment_exist\", \"show_errors_post\"]:\n",
    "    post = state['post_description']\n",
    "    \n",
    "    if len(post) > 0:\n",
    "        return \"check_comment_exist\"\n",
    "    else:\n",
    "        return \"show_errors_post\"\n",
    "        \n",
    "        \n",
    "def comment_conditional(state: PostState) -> Literal[\"data_formatting\", \"show_error_comments\"]:\n",
    "        \n",
    "    lists = state['comments']\n",
    "    \n",
    "    if len(lists) > 5:\n",
    "        return \"data_formatting\"\n",
    "    else:\n",
    "        return \"show_error_comments\""
   ]
  },
  {
   "cell_type": "code",
   "execution_count": null,
   "id": "77396ff4",
   "metadata": {},
   "outputs": [],
   "source": []
  },
  {
   "cell_type": "code",
   "execution_count": 166,
   "id": "42bd8e56",
   "metadata": {},
   "outputs": [
    {
     "data": {
      "text/plain": [
       "<langgraph.graph.state.StateGraph at 0x21c45553430>"
      ]
     },
     "execution_count": 166,
     "metadata": {},
     "output_type": "execute_result"
    }
   ],
   "source": [
    "graph.add_node(\"show_errors_post\", show_errors_post)\n",
    "\n",
    "graph.add_node(\"check_comment_exist\", check_comment_exist)\n",
    "graph.add_node(\"show_error_comments\", show_error_comments)\n",
    "\n",
    "graph.add_node(\"data_formatting\", data_formatting )\n",
    "\n",
    "graph.add_node(\"generate_summary\", generate_summary)\n",
    "graph.add_node(\"check_sentiment\", check_sentiment)\n",
    "graph.add_node(\"store_db\", store_db)"
   ]
  },
  {
   "cell_type": "code",
   "execution_count": null,
   "id": "ba6c5a18",
   "metadata": {},
   "outputs": [
    {
     "data": {
      "text/plain": [
       "<langgraph.graph.state.StateGraph at 0x21c45553430>"
      ]
     },
     "execution_count": 167,
     "metadata": {},
     "output_type": "execute_result"
    }
   ],
   "source": [
    "graph.add_conditional_edges(START, post_conditional)\n",
    "graph.add_edge(\"show_errors_post\", END)\n",
    "graph.add_conditional_edges(\"check_comment_exist\", comment_conditional)\n",
    "graph.add_edge(\"show_error_comments\", END)\n",
    "\n",
    "graph.add_edge(\"data_formatting\", \"generate_summary\")\n",
    "graph.add_edge(\"data_formatting\", \"check_sentiment\")\n",
    "graph.add_edge(\"generate_summary\", \"store_db\")\n",
    "graph.add_edge(\"check_sentiment\", \"store_db\")\n",
    "\n",
    "graph.add_edge(\"store_db\", END)"
   ]
  },
  {
   "cell_type": "code",
   "execution_count": 168,
   "id": "1f560f24",
   "metadata": {},
   "outputs": [
    {
     "data": {
      "image/png": "[encoded data removed]",
      "text/plain": [
       "<langgraph.graph.state.CompiledStateGraph object at 0x0000021C44C9F580>"
      ]
     },
     "execution_count": 168,
     "metadata": {},
     "output_type": "execute_result"
    }
   ],
   "source": [
    "workflow = graph.compile()\n",
    "workflow"
   ]
  },
  {
   "cell_type": "code",
   "execution_count": 169,
   "id": "6a87e043",
   "metadata": {},
   "outputs": [],
   "source": [
    "# Load the corrected JSON data from the file\n",
    "try:\n",
    "    with open('fakeData.json', 'r', encoding='utf-8') as file:\n",
    "        data = json.load(file)\n",
    "except FileNotFoundError:\n",
    "    print(\"File not found. Please check the file path.\")\n",
    "except json.JSONDecodeError:\n",
    "    print(\"Error decoding JSON. Please check the file format.\")\n",
    "except Exception as e:\n",
    "    print(f\"An error occurred: {e}\")"
   ]
  },
  {
   "cell_type": "code",
   "execution_count": 170,
   "id": "edb712e8",
   "metadata": {},
   "outputs": [
    {
     "name": "stdout",
     "output_type": "stream",
     "text": [
      "Check Comment Exist\n",
      "Data Formatting Node\n",
      "Check Sentiment\n",
      "Generate Summary\n",
      "Summary:\t Commenters overwhelmingly gush over Luna's adorableness and congratulate the poster on adopting her.  Many offer helpful advice for new pet parents, focusing on providing chew toys, crate training, puppy classes for socialization, and the importance of patience during training.  There's also a strong expression of excitement to see more pictures of Luna in the future.\n",
      "Overall Sentiment:\t ['positive']\n",
      "Positive Comments:\t 10\n",
      "Negative Comments:\t 0\n",
      "Overall Score:\t 5\n",
      "Comments:\t [{'comment': 'OMG, Luna is adorable! 😍 Welcome to the dog mom life!', 'sentiment': ['positive']}, {'comment': 'So cute! Tip: get lots of chew toys. Saves your socks! 🧦', 'sentiment': ['positive']}, {'comment': 'Aww, Luna looks like such a sweetheart! Congrats! 🐾', 'sentiment': ['positive']}, {'comment': 'Rescue pups are the best! Crate training worked wonders for my dog. 🐶', 'sentiment': ['positive']}, {'comment': 'She’s precious! Try puppy classes for socialization. 🐕', 'sentiment': ['positive']}, {'comment': 'Luna is too cute! You’re gonna love being a dog mom! 💖', 'sentiment': ['positive']}, {'comment': 'Those puppy eyes! 😭 Enjoy every moment with her!', 'sentiment': ['positive']}, {'comment': 'Congrats on the new fur baby! Lots of treats and love! 🦴', 'sentiment': ['positive']}, {'comment': 'Welcome, Luna! Tip: be patient with training, it pays off! 🐾', 'sentiment': ['positive']}, {'comment': 'She’s so adorable! Can’t wait to see more Luna pics! 🐶', 'sentiment': ['positive']}]\n"
     ]
    }
   ],
   "source": [
    "\n",
    "post_id = int(input(\"Enter Post Id\"))\n",
    "# post_id = 3\n",
    "post = data['posts'][post_id-1]\n",
    "comments = post['comments']\n",
    "\n",
    "initial_state = {\n",
    "    'post_id': post_id,\n",
    "    'post_description': post['content'],\n",
    "    'username': post['user'],\n",
    "    \n",
    "    'comments': comments\n",
    "}\n",
    "\n",
    "# type(post['content'])\n",
    "\n",
    "# print({'post_description': post['content']})\n",
    "\n",
    "\n",
    "final_state = workflow.invoke(initial_state)\n",
    "\n",
    "print(\"Summary:\\t\", final_state['summary'])\n",
    "print(\"Overall Sentiment:\\t\", final_state['overall_sentiment'])\n",
    "print(\"Positive Comments:\\t\", final_state['positive_sentiment'])\n",
    "print(\"Negative Comments:\\t\", final_state['negative_sentiment'])\n",
    "print(\"Overall Score:\\t\", final_state['score'])\n",
    "print(\"Comments:\\t\", final_state['comments_detailed'])\n",
    "\n"
   ]
  },
  {
   "cell_type": "code",
   "execution_count": null,
   "id": "d88a128f",
   "metadata": {},
   "outputs": [],
   "source": []
  }
 ],
 "metadata": {
  "kernelspec": {
   "display_name": "venv",
   "language": "python",
   "name": "python3"
  },
  "language_info": {
   "codemirror_mode": {
    "name": "ipython",
    "version": 3
   },
   "file_extension": ".py",
   "mimetype": "text/x-python",
   "name": "python",
   "nbconvert_exporter": "python",
   "pygments_lexer": "ipython3",
   "version": "3.10.11"
  }
 },
 "nbformat": 4,
 "nbformat_minor": 5
}
